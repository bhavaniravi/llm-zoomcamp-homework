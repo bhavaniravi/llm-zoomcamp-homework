{
 "cells": [
  {
   "cell_type": "markdown",
   "id": "08d7e195-573a-4dad-a91a-e697fcf17c18",
   "metadata": {},
   "source": [
    "## 1. Embed the query using - 'jinaai/jina-embeddings-v2-small-en'"
   ]
  },
  {
   "cell_type": "code",
   "execution_count": 9,
   "id": "5ca8fc23-a00c-4fb7-ab90-73d2ecc072f8",
   "metadata": {},
   "outputs": [],
   "source": [
    "from fastembed import TextEmbedding"
   ]
  },
  {
   "cell_type": "code",
   "execution_count": 23,
   "id": "6adbee68-22d8-48c4-a4b0-0878fe4d9a72",
   "metadata": {},
   "outputs": [],
   "source": [
    "import numpy as np"
   ]
  },
  {
   "cell_type": "code",
   "execution_count": 10,
   "id": "6d459547-779c-443d-a482-e9da5e23da62",
   "metadata": {},
   "outputs": [],
   "source": [
    "model_name = 'jinaai/jina-embeddings-v2-small-en'"
   ]
  },
  {
   "cell_type": "code",
   "execution_count": 11,
   "id": "78cc51e3-b53b-4c6c-8161-8ead6905ff76",
   "metadata": {},
   "outputs": [],
   "source": [
    "query = 'I just discovered the course. Can I join now?'"
   ]
  },
  {
   "cell_type": "code",
   "execution_count": 12,
   "id": "a78aa80f-f5e9-42ac-a131-c6b981e60bbd",
   "metadata": {},
   "outputs": [
    {
     "data": {
      "application/vnd.jupyter.widget-view+json": {
       "model_id": "05a64da3064d459a8e9c1486a6e3cb93",
       "version_major": 2,
       "version_minor": 0
      },
      "text/plain": [
       "Fetching 5 files:   0%|          | 0/5 [00:00<?, ?it/s]"
      ]
     },
     "metadata": {},
     "output_type": "display_data"
    },
    {
     "data": {
      "application/vnd.jupyter.widget-view+json": {
       "model_id": "a5f755dea904453db3bca039e12188ec",
       "version_major": 2,
       "version_minor": 0
      },
      "text/plain": [
       "special_tokens_map.json:   0%|          | 0.00/125 [00:00<?, ?B/s]"
      ]
     },
     "metadata": {},
     "output_type": "display_data"
    },
    {
     "data": {
      "application/vnd.jupyter.widget-view+json": {
       "model_id": "0741f3d471a84e53890789edde3a9450",
       "version_major": 2,
       "version_minor": 0
      },
      "text/plain": [
       "tokenizer_config.json:   0%|          | 0.00/367 [00:00<?, ?B/s]"
      ]
     },
     "metadata": {},
     "output_type": "display_data"
    },
    {
     "data": {
      "application/vnd.jupyter.widget-view+json": {
       "model_id": "ec69cab64f4145fbbdacdb9d5266d1e6",
       "version_major": 2,
       "version_minor": 0
      },
      "text/plain": [
       "tokenizer.json:   0%|          | 0.00/712k [00:00<?, ?B/s]"
      ]
     },
     "metadata": {},
     "output_type": "display_data"
    },
    {
     "data": {
      "application/vnd.jupyter.widget-view+json": {
       "model_id": "ac7618ceec5e465d81445098d08da8ca",
       "version_major": 2,
       "version_minor": 0
      },
      "text/plain": [
       "config.json:   0%|          | 0.00/1.15k [00:00<?, ?B/s]"
      ]
     },
     "metadata": {},
     "output_type": "display_data"
    },
    {
     "data": {
      "application/vnd.jupyter.widget-view+json": {
       "model_id": "242a558ecafe48e4a2568c5b26ef929d",
       "version_major": 2,
       "version_minor": 0
      },
      "text/plain": [
       "onnx/model.onnx:   0%|          | 0.00/130M [00:00<?, ?B/s]"
      ]
     },
     "metadata": {},
     "output_type": "display_data"
    }
   ],
   "source": [
    "embedding_model = TextEmbedding(model_name)"
   ]
  },
  {
   "cell_type": "code",
   "execution_count": 13,
   "id": "47d63ff0-7baa-46b9-8036-d7ab8ab80c7a",
   "metadata": {},
   "outputs": [],
   "source": [
    "embeddings_list = list(embedding_model.embed(query))"
   ]
  },
  {
   "cell_type": "code",
   "execution_count": 18,
   "id": "47446f52-45c5-46ef-9e4c-3a0d62737939",
   "metadata": {},
   "outputs": [
    {
     "data": {
      "text/plain": [
       "np.float64(-0.11726373551188797)"
      ]
     },
     "execution_count": 18,
     "metadata": {},
     "output_type": "execute_result"
    }
   ],
   "source": [
    "min(embeddings_list[0])"
   ]
  },
  {
   "cell_type": "code",
   "execution_count": 20,
   "id": "eefe6f03-33ce-4af7-80b5-2f2fe90d7658",
   "metadata": {},
   "outputs": [],
   "source": [
    "x = embeddings_list[0]"
   ]
  },
  {
   "cell_type": "markdown",
   "id": "bce70b22-e9ff-43a9-8f2f-83dae650e6c2",
   "metadata": {},
   "source": [
    "## 2. Cosine similarity"
   ]
  },
  {
   "cell_type": "code",
   "execution_count": 19,
   "id": "bc37cda8-c702-4a3d-8a1b-ce802116d824",
   "metadata": {},
   "outputs": [],
   "source": [
    "doc = 'Can I still join the course after the start date?'"
   ]
  },
  {
   "cell_type": "code",
   "execution_count": 21,
   "id": "4f2f454c-5a3c-4199-872c-5249695c0b8e",
   "metadata": {},
   "outputs": [],
   "source": [
    "doc_embedding = list(embedding_model.embed(doc))"
   ]
  },
  {
   "cell_type": "code",
   "execution_count": 22,
   "id": "6be85360-b80e-4bdf-90e1-156146e0ea15",
   "metadata": {},
   "outputs": [],
   "source": [
    "y = doc_embedding[0]"
   ]
  },
  {
   "cell_type": "code",
   "execution_count": 24,
   "id": "2307896e-cac4-4d2a-a781-5866c4f9f494",
   "metadata": {},
   "outputs": [
    {
     "data": {
      "text/plain": [
       "np.float64(0.9008528856818037)"
      ]
     },
     "execution_count": 24,
     "metadata": {},
     "output_type": "execute_result"
    }
   ],
   "source": [
    "x.dot(y)"
   ]
  },
  {
   "cell_type": "markdown",
   "id": "be4469ba-50fb-4283-90e0-599bd4acf4df",
   "metadata": {},
   "source": [
    "## 3. Ranking by cosine"
   ]
  },
  {
   "cell_type": "code",
   "execution_count": 25,
   "id": "3960be94-e3a5-46dd-831b-43c8ad2eed53",
   "metadata": {},
   "outputs": [],
   "source": [
    "documents = [{'text': \"Yes, even if you don't register, you're still eligible to submit the homeworks.\\nBe aware, however, that there will be deadlines for turning in the final projects. So don't leave everything for the last minute.\",\n",
    "  'section': 'General course-related questions',\n",
    "  'question': 'Course - Can I still join the course after the start date?',\n",
    "  'course': 'data-engineering-zoomcamp'},\n",
    " {'text': 'Yes, we will keep all the materials after the course finishes, so you can follow the course at your own pace after it finishes.\\nYou can also continue looking at the homeworks and continue preparing for the next cohort. I guess you can also start working on your final capstone project.',\n",
    "  'section': 'General course-related questions',\n",
    "  'question': 'Course - Can I follow the course after it finishes?',\n",
    "  'course': 'data-engineering-zoomcamp'},\n",
    " {'text': \"The purpose of this document is to capture frequently asked technical questions\\nThe exact day and hour of the course will be 15th Jan 2024 at 17h00. The course will start with the first  “Office Hours'' live.1\\nSubscribe to course public Google Calendar (it works from Desktop only).\\nRegister before the course starts using this link.\\nJoin the course Telegram channel with announcements.\\nDon’t forget to register in DataTalks.Club's Slack and join the channel.\",\n",
    "  'section': 'General course-related questions',\n",
    "  'question': 'Course - When will the course start?',\n",
    "  'course': 'data-engineering-zoomcamp'},\n",
    " {'text': 'You can start by installing and setting up all the dependencies and requirements:\\nGoogle cloud account\\nGoogle Cloud SDK\\nPython 3 (installed with Anaconda)\\nTerraform\\nGit\\nLook over the prerequisites and syllabus to see if you are comfortable with these subjects.',\n",
    "  'section': 'General course-related questions',\n",
    "  'question': 'Course - What can I do before the course starts?',\n",
    "  'course': 'data-engineering-zoomcamp'},\n",
    " {'text': 'Star the repo! Share it with friends if you find it useful ❣️\\nCreate a PR if you see you can improve the text or the structure of the repository.',\n",
    "  'section': 'General course-related questions',\n",
    "  'question': 'How can we contribute to the course?',\n",
    "  'course': 'data-engineering-zoomcamp'}]"
   ]
  },
  {
   "cell_type": "code",
   "execution_count": 30,
   "id": "3eb82170-69e2-4b58-891d-76635bba4150",
   "metadata": {},
   "outputs": [
    {
     "name": "stdout",
     "output_type": "stream",
     "text": [
      "0.7629684493123693\n",
      "0.8182378325403556\n",
      "0.8085397290762828\n",
      "0.713307860072464\n",
      "0.7304499388234831\n"
     ]
    },
    {
     "data": {
      "text/plain": [
       "(np.float64(0.8182378325403556), 1)"
      ]
     },
     "execution_count": 30,
     "metadata": {},
     "output_type": "execute_result"
    }
   ],
   "source": [
    "highest = 0\n",
    "h_index = 0\n",
    "for i, item in enumerate(documents):\n",
    "    text = item['text']\n",
    "    e = list(embedding_model.embed(text))[0]\n",
    "    sim = x.dot(e)\n",
    "    print (sim)\n",
    "    if sim > highest:\n",
    "        highest = sim\n",
    "        h_index = i\n",
    "\n",
    "highest, h_index"
   ]
  },
  {
   "cell_type": "markdown",
   "id": "54e8169c-4a12-4646-8d7f-085e59cf6bb3",
   "metadata": {},
   "source": [
    "## 4. Cosine Version 2"
   ]
  },
  {
   "cell_type": "code",
   "execution_count": 31,
   "id": "0f850f22-20dd-4b8d-985b-3eabb8f244ae",
   "metadata": {},
   "outputs": [
    {
     "name": "stdout",
     "output_type": "stream",
     "text": [
      "0.8514543121225202\n",
      "0.8436594058703555\n",
      "0.8408287206920106\n",
      "0.7755157711899687\n",
      "0.8086008033213788\n"
     ]
    },
    {
     "data": {
      "text/plain": [
       "(np.float64(0.8514543121225202), 0)"
      ]
     },
     "execution_count": 31,
     "metadata": {},
     "output_type": "execute_result"
    }
   ],
   "source": [
    "highest = 0\n",
    "h_index = 0\n",
    "for i, item in enumerate(documents):\n",
    "    text = item['question'] + ' ' + item['text']\n",
    "    e = list(embedding_model.embed(text))[0]\n",
    "    sim = x.dot(e)\n",
    "    print (sim)\n",
    "    if sim > highest:\n",
    "        highest = sim\n",
    "        h_index = i\n",
    "\n",
    "highest, h_index"
   ]
  },
  {
   "cell_type": "markdown",
   "id": "320cdb44-3e6c-4a76-be46-95f6aa98e77d",
   "metadata": {},
   "source": [
    "## 5. Smallest Model"
   ]
  },
  {
   "cell_type": "code",
   "execution_count": 36,
   "id": "806c1f34-96dd-4f98-8a8c-fa30e0147d25",
   "metadata": {},
   "outputs": [
    {
     "data": {
      "application/vnd.jupyter.widget-view+json": {
       "model_id": "6ca967e5055a4737ad3a31ec55deba42",
       "version_major": 2,
       "version_minor": 0
      },
      "text/plain": [
       "Fetching 5 files:   0%|          | 0/5 [00:00<?, ?it/s]"
      ]
     },
     "metadata": {},
     "output_type": "display_data"
    },
    {
     "data": {
      "application/vnd.jupyter.widget-view+json": {
       "model_id": "e61dbf60d1ce44779cdc421bd91d075d",
       "version_major": 2,
       "version_minor": 0
      },
      "text/plain": [
       "config.json:   0%|          | 0.00/701 [00:00<?, ?B/s]"
      ]
     },
     "metadata": {},
     "output_type": "display_data"
    },
    {
     "data": {
      "application/vnd.jupyter.widget-view+json": {
       "model_id": "f6802121afe34b728166f59a64bf6b49",
       "version_major": 2,
       "version_minor": 0
      },
      "text/plain": [
       "tokenizer_config.json:   0%|          | 0.00/366 [00:00<?, ?B/s]"
      ]
     },
     "metadata": {},
     "output_type": "display_data"
    },
    {
     "data": {
      "application/vnd.jupyter.widget-view+json": {
       "model_id": "394b7f672e6444fca12bd99f2634badc",
       "version_major": 2,
       "version_minor": 0
      },
      "text/plain": [
       "tokenizer.json:   0%|          | 0.00/711k [00:00<?, ?B/s]"
      ]
     },
     "metadata": {},
     "output_type": "display_data"
    },
    {
     "data": {
      "application/vnd.jupyter.widget-view+json": {
       "model_id": "8613dbc9095a49aea04765ae691ff7bc",
       "version_major": 2,
       "version_minor": 0
      },
      "text/plain": [
       "special_tokens_map.json:   0%|          | 0.00/125 [00:00<?, ?B/s]"
      ]
     },
     "metadata": {},
     "output_type": "display_data"
    },
    {
     "data": {
      "application/vnd.jupyter.widget-view+json": {
       "model_id": "1d272dfa3e5b46a992396cf89c445430",
       "version_major": 2,
       "version_minor": 0
      },
      "text/plain": [
       "model_optimized.onnx:   0%|          | 0.00/133M [00:00<?, ?B/s]"
      ]
     },
     "metadata": {},
     "output_type": "display_data"
    }
   ],
   "source": [
    "s_model = TextEmbedding('BAAI/bge-small-en')"
   ]
  },
  {
   "cell_type": "code",
   "execution_count": 37,
   "id": "5ecb95da-c2b2-4709-9bdd-2b2b38219ab0",
   "metadata": {},
   "outputs": [],
   "source": [
    "l = list(s_model.embed(query))[0]"
   ]
  },
  {
   "cell_type": "code",
   "execution_count": 38,
   "id": "2e0de51f-c0b4-4719-bc96-ac5b4a4dfd91",
   "metadata": {},
   "outputs": [
    {
     "data": {
      "text/plain": [
       "384"
      ]
     },
     "execution_count": 38,
     "metadata": {},
     "output_type": "execute_result"
    }
   ],
   "source": [
    "len(l)"
   ]
  },
  {
   "cell_type": "markdown",
   "id": "fa864cfd-6895-46d7-b680-c87e7c28e428",
   "metadata": {},
   "source": [
    "## 6. Indexing with Qdrant"
   ]
  },
  {
   "cell_type": "code",
   "execution_count": null,
   "id": "ca7ca5d3-90bf-4d29-9864-99334c735b45",
   "metadata": {},
   "outputs": [],
   "source": [
    "import requests \n",
    "\n",
    "docs_url = 'https://github.com/alexeygrigorev/llm-rag-workshop/raw/main/notebooks/documents.json'\n",
    "docs_response = requests.get(docs_url)\n",
    "documents_raw = docs_response.json()\n",
    "\n",
    "\n",
    "documents = []\n",
    "\n",
    "for course in documents_raw:\n",
    "    course_name = course['course']\n",
    "    if course_name != 'machine-learning-zoomcamp':\n",
    "        continue\n",
    "\n",
    "    for doc in course['documents']:\n",
    "        doc['course'] = course_name\n",
    "        documents.append(doc)"
   ]
  },
  {
   "cell_type": "code",
   "execution_count": 39,
   "id": "9aa5f795-3c69-4279-8761-37b975220f28",
   "metadata": {},
   "outputs": [],
   "source": [
    "texts = [item['question'] + ' ' + item['text'] for i, item in enumerate(documents)]"
   ]
  },
  {
   "cell_type": "code",
   "execution_count": 41,
   "id": "56017cea-abc4-4607-8f4d-ab5f68d9952d",
   "metadata": {},
   "outputs": [],
   "source": [
    "m = s_model.embed(texts)"
   ]
  },
  {
   "cell_type": "code",
   "execution_count": 43,
   "id": "9514bde3-6769-4129-a292-72b88ecabfd1",
   "metadata": {},
   "outputs": [],
   "source": [
    "from qdrant_client import QdrantClient, models\n",
    "\n",
    "client = QdrantClient(\":memory:\")  # Qdrant is running from RAM."
   ]
  },
  {
   "cell_type": "code",
   "execution_count": 44,
   "id": "829c021f-12ba-4f6e-b22b-b38ac43c41fc",
   "metadata": {},
   "outputs": [
    {
     "data": {
      "text/plain": [
       "True"
      ]
     },
     "execution_count": 44,
     "metadata": {},
     "output_type": "execute_result"
    }
   ],
   "source": [
    "model_name = \"BAAI/bge-small-en\"\n",
    "client.create_collection(\n",
    "    collection_name=\"test_collection\",\n",
    "    vectors_config=models.VectorParams(\n",
    "        size=client.get_embedding_size(model_name), \n",
    "        distance=models.Distance.COSINE\n",
    "    ),  # size and distance are model dependent\n",
    ")"
   ]
  },
  {
   "cell_type": "code",
   "execution_count": 48,
   "id": "661758d8-f394-4edc-afe3-9bd5d7b46858",
   "metadata": {},
   "outputs": [],
   "source": [
    "metadata_with_docs = [\n",
    "    {\"document\": item['question'] + ' ' + item['text'], \"source\": item['course']} for item in documents\n",
    "]\n",
    "ids = list(range(len(documents)))\n",
    "client.upload_collection(\n",
    "    collection_name=\"test_collection\",\n",
    "    vectors=[models.Document(text=doc['document'], model=model_name) for doc in metadata_with_docs],\n",
    "    ids=ids,\n",
    ")"
   ]
  },
  {
   "cell_type": "code",
   "execution_count": 51,
   "id": "6facccac-5b92-488d-a9ea-a69ac16fc162",
   "metadata": {},
   "outputs": [
    {
     "name": "stdout",
     "output_type": "stream",
     "text": [
      "[ScoredPoint(id=0, version=0, score=0.8507920473465453, payload={}, vector=None, shard_key=None, order_value=None), ScoredPoint(id=2, version=0, score=0.8468815448892175, payload={}, vector=None, shard_key=None, order_value=None), ScoredPoint(id=1, version=0, score=0.8353983667389852, payload={}, vector=None, shard_key=None, order_value=None), ScoredPoint(id=4, version=0, score=0.8297411570009187, payload={}, vector=None, shard_key=None, order_value=None), ScoredPoint(id=3, version=0, score=0.8225325597525123, payload={}, vector=None, shard_key=None, order_value=None)]\n"
     ]
    }
   ],
   "source": [
    "search_result = client.query_points(\n",
    "    collection_name=\"test_collection\",\n",
    "    query=models.Document(\n",
    "        text=query, \n",
    "        model=model_name\n",
    "    )\n",
    ").points\n",
    "print(search_result)"
   ]
  },
  {
   "cell_type": "code",
   "execution_count": 52,
   "id": "31d82087-5efc-47fa-b43c-13d21ff58108",
   "metadata": {},
   "outputs": [
    {
     "data": {
      "text/plain": [
       "0.8507920473465453"
      ]
     },
     "execution_count": 52,
     "metadata": {},
     "output_type": "execute_result"
    }
   ],
   "source": [
    "max([r.score for r in search_result])"
   ]
  },
  {
   "cell_type": "code",
   "execution_count": null,
   "id": "dd99e124-57b7-4eb9-bd1c-dea95c94d31c",
   "metadata": {},
   "outputs": [],
   "source": []
  }
 ],
 "metadata": {
  "kernelspec": {
   "display_name": "llm-zoomcamp",
   "language": "python",
   "name": "python3"
  },
  "language_info": {
   "codemirror_mode": {
    "name": "ipython",
    "version": 3
   },
   "file_extension": ".py",
   "mimetype": "text/x-python",
   "name": "python",
   "nbconvert_exporter": "python",
   "pygments_lexer": "ipython3",
   "version": "3.12.10"
  }
 },
 "nbformat": 4,
 "nbformat_minor": 5
}
